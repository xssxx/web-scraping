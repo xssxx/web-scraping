{
 "cells": [
  {
   "cell_type": "code",
   "execution_count": 2,
   "id": "87a9c52f",
   "metadata": {},
   "outputs": [],
   "source": [
    "from selenium import webdriver\n",
    "from selenium.webdriver.edge.service import Service\n",
    "from selenium.webdriver.edge.options import Options\n",
    "import pandas as pd\n",
    "import seaborn as sns\n",
    "import matplotlib.pyplot as plt"
   ]
  },
  {
   "cell_type": "code",
   "execution_count": 3,
   "id": "f88d2cfe",
   "metadata": {},
   "outputs": [],
   "source": [
    "options = Options()\n",
    "options.add_experimental_option(\"detach\", True)\n",
    "\n",
    "driver = webdriver.Edge(\n",
    "    service=Service('driver/msedgedriver.exe'),\n",
    "    options=options\n",
    ")\n",
    "\n",
    "driver.get('https://www.set.or.th/th/market/index/set100/overview')"
   ]
  },
  {
   "cell_type": "code",
   "execution_count": 4,
   "metadata": {},
   "outputs": [],
   "source": [
    "data = driver.page_source   "
   ]
  },
  {
   "cell_type": "code",
   "execution_count": 5,
   "metadata": {},
   "outputs": [],
   "source": [
    "df = pd.read_html(data)[1]\n",
    "columns = []\n",
    "for c in df.columns:\n",
    "    columns.append(c.replace('(Click to sort Ascending)', '').strip())\n",
    "df.columns = columns\n",
    "df = df.set_index('หลักทรัพย์')"
   ]
  },
  {
   "cell_type": "code",
   "execution_count": 6,
   "metadata": {},
   "outputs": [
    {
     "data": {
      "text/html": [
       "<div>\n",
       "<style scoped>\n",
       "    .dataframe tbody tr th:only-of-type {\n",
       "        vertical-align: middle;\n",
       "    }\n",
       "\n",
       "    .dataframe tbody tr th {\n",
       "        vertical-align: top;\n",
       "    }\n",
       "\n",
       "    .dataframe thead th {\n",
       "        text-align: right;\n",
       "    }\n",
       "</style>\n",
       "<table border=\"1\" class=\"dataframe\">\n",
       "  <thead>\n",
       "    <tr style=\"text-align: right;\">\n",
       "      <th></th>\n",
       "      <th>เปิด</th>\n",
       "      <th>สูงสุด</th>\n",
       "      <th>ต่ำสุด</th>\n",
       "      <th>ล่าสุด</th>\n",
       "      <th>เปลี่ยนแปลง</th>\n",
       "      <th>% เปลี่ยนแปลง</th>\n",
       "      <th>เสนอซื้อ</th>\n",
       "      <th>เสนอขาย</th>\n",
       "      <th>ปริมาณ (หุ้น)</th>\n",
       "      <th>มูลค่า ('000 บาท)</th>\n",
       "    </tr>\n",
       "    <tr>\n",
       "      <th>หลักทรัพย์</th>\n",
       "      <th></th>\n",
       "      <th></th>\n",
       "      <th></th>\n",
       "      <th></th>\n",
       "      <th></th>\n",
       "      <th></th>\n",
       "      <th></th>\n",
       "      <th></th>\n",
       "      <th></th>\n",
       "      <th></th>\n",
       "    </tr>\n",
       "  </thead>\n",
       "  <tbody>\n",
       "    <tr>\n",
       "      <th>AAV</th>\n",
       "      <td>1.92</td>\n",
       "      <td>1.95</td>\n",
       "      <td>1.90</td>\n",
       "      <td>1.91</td>\n",
       "      <td>0.00</td>\n",
       "      <td>0.00</td>\n",
       "      <td>1.91</td>\n",
       "      <td>1.92</td>\n",
       "      <td>18915548</td>\n",
       "      <td>36370.69</td>\n",
       "    </tr>\n",
       "    <tr>\n",
       "      <th>ACE</th>\n",
       "      <td>1.48</td>\n",
       "      <td>1.49</td>\n",
       "      <td>1.46</td>\n",
       "      <td>1.47</td>\n",
       "      <td>-0.01</td>\n",
       "      <td>-0.68</td>\n",
       "      <td>1.47</td>\n",
       "      <td>1.48</td>\n",
       "      <td>6141290</td>\n",
       "      <td>9094.83</td>\n",
       "    </tr>\n",
       "    <tr>\n",
       "      <th>ADVANC</th>\n",
       "      <td>218.00</td>\n",
       "      <td>219.00</td>\n",
       "      <td>217.00</td>\n",
       "      <td>219.00</td>\n",
       "      <td>1.00</td>\n",
       "      <td>0.46</td>\n",
       "      <td>218.00</td>\n",
       "      <td>219.00</td>\n",
       "      <td>2297806</td>\n",
       "      <td>501503.18</td>\n",
       "    </tr>\n",
       "    <tr>\n",
       "      <th>AMATA</th>\n",
       "      <td>25.25</td>\n",
       "      <td>26.00</td>\n",
       "      <td>25.00</td>\n",
       "      <td>25.75</td>\n",
       "      <td>0.75</td>\n",
       "      <td>3.00</td>\n",
       "      <td>25.50</td>\n",
       "      <td>25.75</td>\n",
       "      <td>3617216</td>\n",
       "      <td>92569.27</td>\n",
       "    </tr>\n",
       "    <tr>\n",
       "      <th>AOT</th>\n",
       "      <td>59.25</td>\n",
       "      <td>59.50</td>\n",
       "      <td>58.00</td>\n",
       "      <td>58.50</td>\n",
       "      <td>-1.00</td>\n",
       "      <td>-1.68</td>\n",
       "      <td>58.50</td>\n",
       "      <td>58.75</td>\n",
       "      <td>55345253</td>\n",
       "      <td>3236488.71</td>\n",
       "    </tr>\n",
       "  </tbody>\n",
       "</table>\n",
       "</div>"
      ],
      "text/plain": [
       "              เปิด  สูงสุด  ต่ำสุด  ล่าสุด  เปลี่ยนแปลง  % เปลี่ยนแปลง  \\\n",
       "หลักทรัพย์                                                               \n",
       "AAV           1.92    1.95    1.90    1.91         0.00           0.00   \n",
       "ACE           1.48    1.49    1.46    1.47        -0.01          -0.68   \n",
       "ADVANC      218.00  219.00  217.00  219.00         1.00           0.46   \n",
       "AMATA        25.25   26.00   25.00   25.75         0.75           3.00   \n",
       "AOT          59.25   59.50   58.00   58.50        -1.00          -1.68   \n",
       "\n",
       "            เสนอซื้อ  เสนอขาย  ปริมาณ (หุ้น)  มูลค่า ('000 บาท)  \n",
       "หลักทรัพย์                                                       \n",
       "AAV             1.91     1.92       18915548           36370.69  \n",
       "ACE             1.47     1.48        6141290            9094.83  \n",
       "ADVANC        218.00   219.00        2297806          501503.18  \n",
       "AMATA          25.50    25.75        3617216           92569.27  \n",
       "AOT            58.50    58.75       55345253         3236488.71  "
      ]
     },
     "execution_count": 6,
     "metadata": {},
     "output_type": "execute_result"
    }
   ],
   "source": [
    "df.to_excel('output/set100.xlsx')\n",
    "df.head()"
   ]
  },
  {
   "cell_type": "code",
   "execution_count": 7,
   "metadata": {},
   "outputs": [
    {
     "data": {
      "text/plain": [
       "Text(0, 0.5, 'Frequency')"
      ]
     },
     "execution_count": 7,
     "metadata": {},
     "output_type": "execute_result"
    },
    {
     "data": {
      "image/png": "[encoded data removed]",
      "text/plain": [
       "<Figure size 640x480 with 1 Axes>"
      ]
     },
     "metadata": {},
     "output_type": "display_data"
    }
   ],
   "source": [
    "sns.histplot(data=df, x='เปิด', kde=True)\n",
    "plt.title('Histogram of open prices')\n",
    "plt.xlabel('Open price')\n",
    "plt.ylabel('Frequency')"
   ]
  },
  {
   "cell_type": "code",
   "execution_count": null,
   "metadata": {},
   "outputs": [],
   "source": []
  }
 ],
 "metadata": {
  "kernelspec": {
   "display_name": "Python 3 (ipykernel)",
   "language": "python",
   "name": "python3"
  },
  "language_info": {
   "codemirror_mode": {
    "name": "ipython",
    "version": 3
   },
   "file_extension": ".py",
   "mimetype": "text/x-python",
   "name": "python",
   "nbconvert_exporter": "python",
   "pygments_lexer": "ipython3",
   "version": "3.10.11"
  }
 },
 "nbformat": 4,
 "nbformat_minor": 5
}
